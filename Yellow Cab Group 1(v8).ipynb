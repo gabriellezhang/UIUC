{
 "cells": [
  {
   "cell_type": "markdown",
   "metadata": {},
   "source": [
    "## **ACCY 593 - Yellow Cab Case** \n",
    "### Group 1 - Nan Zhang; Marc Malmquist; Yemisi Aremu; Elaine Du; Thomas Coats"
   ]
  },
  {
   "cell_type": "markdown",
   "metadata": {},
   "source": [
    "#### Load Relevant Packages and Dependencies"
   ]
  },
  {
   "cell_type": "code",
   "execution_count": 1,
   "metadata": {
    "collapsed": true
   },
   "outputs": [],
   "source": [
    "# database, time, and visualization tools\n",
    "import pandas as pd\n",
    "import numpy as np\n",
    "import datetime as datetime\n",
    "import matplotlib.pyplot as plt\n",
    "import seaborn as sns\n",
    "\n",
    "# import statsmodels formula\n",
    "import statsmodels.formula.api as smf\n",
    "\n",
    "# to show graphs inline\n",
    "%matplotlib inline\n",
    "\n",
    "# disable an unneeded warning\n",
    "pd.options.mode.chained_assignment = None\n",
    "# default = 'warn'"
   ]
  },
  {
   "cell_type": "markdown",
   "metadata": {},
   "source": [
    "#### 3 - Load and look at the Data"
   ]
  },
  {
   "cell_type": "code",
   "execution_count": 2,
   "metadata": {
    "collapsed": true
   },
   "outputs": [],
   "source": [
    "yellow_cab = pd.read_csv('Yellow Cab_Data.csv', delimiter=',')"
   ]
  },
  {
   "cell_type": "code",
   "execution_count": 3,
   "metadata": {},
   "outputs": [
    {
     "data": {
      "text/plain": [
       "(2000000, 23)"
      ]
     },
     "execution_count": 3,
     "metadata": {},
     "output_type": "execute_result"
    }
   ],
   "source": [
    "yellow_cab.shape"
   ]
  },
  {
   "cell_type": "code",
   "execution_count": 4,
   "metadata": {},
   "outputs": [
    {
     "data": {
      "text/plain": [
       "Index(['company', 'dropoff_census_tract', 'dropoff_centroid_latitude',\n",
       "       'dropoff_centroid_location', 'dropoff_centroid_longitude',\n",
       "       'dropoff_community_area', 'extras', 'fare', 'payment_type',\n",
       "       'pickup_census_tract', 'pickup_centroid_latitude',\n",
       "       'pickup_centroid_location', 'pickup_centroid_longitude',\n",
       "       'pickup_community_area', 'taxi_id', 'tips', 'tolls',\n",
       "       'trip_end_timestamp', 'trip_id', 'trip_miles', 'trip_seconds',\n",
       "       'trip_start_timestamp', 'trip_total'],\n",
       "      dtype='object')"
      ]
     },
     "execution_count": 4,
     "metadata": {},
     "output_type": "execute_result"
    }
   ],
   "source": [
    "yellow_cab.columns"
   ]
  },
  {
   "cell_type": "code",
   "execution_count": 5,
   "metadata": {},
   "outputs": [
    {
     "data": {
      "text/html": [
       "<div>\n",
       "<style scoped>\n",
       "    .dataframe tbody tr th:only-of-type {\n",
       "        vertical-align: middle;\n",
       "    }\n",
       "\n",
       "    .dataframe tbody tr th {\n",
       "        vertical-align: top;\n",
       "    }\n",
       "\n",
       "    .dataframe thead th {\n",
       "        text-align: right;\n",
       "    }\n",
       "</style>\n",
       "<table border=\"1\" class=\"dataframe\">\n",
       "  <thead>\n",
       "    <tr style=\"text-align: right;\">\n",
       "      <th></th>\n",
       "      <th>company</th>\n",
       "      <th>dropoff_census_tract</th>\n",
       "      <th>dropoff_centroid_latitude</th>\n",
       "      <th>dropoff_centroid_location</th>\n",
       "      <th>dropoff_centroid_longitude</th>\n",
       "      <th>dropoff_community_area</th>\n",
       "      <th>extras</th>\n",
       "      <th>fare</th>\n",
       "      <th>payment_type</th>\n",
       "      <th>pickup_census_tract</th>\n",
       "      <th>...</th>\n",
       "      <th>pickup_community_area</th>\n",
       "      <th>taxi_id</th>\n",
       "      <th>tips</th>\n",
       "      <th>tolls</th>\n",
       "      <th>trip_end_timestamp</th>\n",
       "      <th>trip_id</th>\n",
       "      <th>trip_miles</th>\n",
       "      <th>trip_seconds</th>\n",
       "      <th>trip_start_timestamp</th>\n",
       "      <th>trip_total</th>\n",
       "    </tr>\n",
       "  </thead>\n",
       "  <tbody>\n",
       "    <tr>\n",
       "      <th>843996</th>\n",
       "      <td>Taxi Affiliation Services</td>\n",
       "      <td>1.703108e+10</td>\n",
       "      <td>41.905858</td>\n",
       "      <td>{'type': 'Point', 'coordinates': [-87.63086502...</td>\n",
       "      <td>-87.630865</td>\n",
       "      <td>8.0</td>\n",
       "      <td>0.0</td>\n",
       "      <td>4.65</td>\n",
       "      <td>Cash</td>\n",
       "      <td>1.703108e+10</td>\n",
       "      <td>...</td>\n",
       "      <td>8.0</td>\n",
       "      <td>51e37146cd6467734e50a00ffe2ebbb77ee35e5f207817...</td>\n",
       "      <td>0.0</td>\n",
       "      <td>0.0</td>\n",
       "      <td>2015-01-01T03:15:00.000</td>\n",
       "      <td>11b6406723011c97a123ebf415a5ee5b5ae37d17</td>\n",
       "      <td>0.6</td>\n",
       "      <td>240.0</td>\n",
       "      <td>2015-01-01T03:15:00.000</td>\n",
       "      <td>4.65</td>\n",
       "    </tr>\n",
       "    <tr>\n",
       "      <th>879155</th>\n",
       "      <td>Dispatch Taxi Affiliation</td>\n",
       "      <td>1.703184e+10</td>\n",
       "      <td>41.898306</td>\n",
       "      <td>{'type': 'Point', 'coordinates': [-87.65361398...</td>\n",
       "      <td>-87.653614</td>\n",
       "      <td>24.0</td>\n",
       "      <td>1.0</td>\n",
       "      <td>5.25</td>\n",
       "      <td>Cash</td>\n",
       "      <td>1.703183e+10</td>\n",
       "      <td>...</td>\n",
       "      <td>28.0</td>\n",
       "      <td>3e0132f8a22b4e9edd4b62bf9708cf185572d2ad6c6266...</td>\n",
       "      <td>0.0</td>\n",
       "      <td>0.0</td>\n",
       "      <td>2015-09-09T23:15:00.000</td>\n",
       "      <td>11cea34462f604cd0c5db1885d5992622263fcd4</td>\n",
       "      <td>0.0</td>\n",
       "      <td>300.0</td>\n",
       "      <td>2015-09-09T23:15:00.000</td>\n",
       "      <td>6.25</td>\n",
       "    </tr>\n",
       "    <tr>\n",
       "      <th>1239510</th>\n",
       "      <td>NaN</td>\n",
       "      <td>1.703108e+10</td>\n",
       "      <td>41.905858</td>\n",
       "      <td>{'type': 'Point', 'coordinates': [-87.63086502...</td>\n",
       "      <td>-87.630865</td>\n",
       "      <td>8.0</td>\n",
       "      <td>2.0</td>\n",
       "      <td>5.65</td>\n",
       "      <td>Cash</td>\n",
       "      <td>1.703108e+10</td>\n",
       "      <td>...</td>\n",
       "      <td>8.0</td>\n",
       "      <td>9b48ad5744e86450fb4db78e7095a6827bafc43a6a9d9a...</td>\n",
       "      <td>0.0</td>\n",
       "      <td>0.0</td>\n",
       "      <td>2015-08-20T00:00:00.000</td>\n",
       "      <td>12c892b8a8d35ff50fab54b49a650e5e255f0210</td>\n",
       "      <td>0.6</td>\n",
       "      <td>360.0</td>\n",
       "      <td>2015-08-20T00:00:00.000</td>\n",
       "      <td>7.65</td>\n",
       "    </tr>\n",
       "    <tr>\n",
       "      <th>445665</th>\n",
       "      <td>NaN</td>\n",
       "      <td>NaN</td>\n",
       "      <td>41.944227</td>\n",
       "      <td>{'type': 'Point', 'coordinates': [-87.65599818...</td>\n",
       "      <td>-87.655998</td>\n",
       "      <td>6.0</td>\n",
       "      <td>0.0</td>\n",
       "      <td>4.00</td>\n",
       "      <td>Cash</td>\n",
       "      <td>NaN</td>\n",
       "      <td>...</td>\n",
       "      <td>6.0</td>\n",
       "      <td>78d1ae230754ef2eca7aa3e828789bc4714b8a261a35d5...</td>\n",
       "      <td>0.0</td>\n",
       "      <td>0.0</td>\n",
       "      <td>2016-07-30T00:00:00.000</td>\n",
       "      <td>10a1dc56c084992fdf0b4e268461c40f3f98de57</td>\n",
       "      <td>0.2</td>\n",
       "      <td>120.0</td>\n",
       "      <td>2016-07-30T00:00:00.000</td>\n",
       "      <td>4.00</td>\n",
       "    </tr>\n",
       "    <tr>\n",
       "      <th>860605</th>\n",
       "      <td>Taxi Affiliation Services</td>\n",
       "      <td>1.703124e+10</td>\n",
       "      <td>41.906026</td>\n",
       "      <td>{'type': 'Point', 'coordinates': [-87.67531162...</td>\n",
       "      <td>-87.675312</td>\n",
       "      <td>24.0</td>\n",
       "      <td>0.0</td>\n",
       "      <td>9.65</td>\n",
       "      <td>Cash</td>\n",
       "      <td>1.703184e+10</td>\n",
       "      <td>...</td>\n",
       "      <td>32.0</td>\n",
       "      <td>4c44c95be8b37539aff5ca9e7840cd7951ebf1fa73d62e...</td>\n",
       "      <td>0.0</td>\n",
       "      <td>0.0</td>\n",
       "      <td>2014-04-22T01:00:00.000</td>\n",
       "      <td>11c1b9dc80de9379f55fc37d3aa6300cdd714dcd</td>\n",
       "      <td>3.3</td>\n",
       "      <td>480.0</td>\n",
       "      <td>2014-04-22T00:45:00.000</td>\n",
       "      <td>9.65</td>\n",
       "    </tr>\n",
       "    <tr>\n",
       "      <th>82565</th>\n",
       "      <td>Taxi Affiliation Services</td>\n",
       "      <td>1.703108e+10</td>\n",
       "      <td>41.902788</td>\n",
       "      <td>{'type': 'Point', 'coordinates': [-87.62614558...</td>\n",
       "      <td>-87.626146</td>\n",
       "      <td>8.0</td>\n",
       "      <td>2.0</td>\n",
       "      <td>37.65</td>\n",
       "      <td>Credit Card</td>\n",
       "      <td>1.703198e+10</td>\n",
       "      <td>...</td>\n",
       "      <td>76.0</td>\n",
       "      <td>2e82e26afb77e809fe4a44b02a152bdc079623600ae1b7...</td>\n",
       "      <td>7.9</td>\n",
       "      <td>0.0</td>\n",
       "      <td>2013-08-22T22:45:00.000</td>\n",
       "      <td>0fa660508ba7c5dfbcffacf5e2000588f9e6b02e</td>\n",
       "      <td>0.0</td>\n",
       "      <td>1920.0</td>\n",
       "      <td>2013-08-22T22:15:00.000</td>\n",
       "      <td>47.55</td>\n",
       "    </tr>\n",
       "    <tr>\n",
       "      <th>1517729</th>\n",
       "      <td>NaN</td>\n",
       "      <td>NaN</td>\n",
       "      <td>41.922686</td>\n",
       "      <td>{'type': 'Point', 'coordinates': [-87.64948872...</td>\n",
       "      <td>-87.649489</td>\n",
       "      <td>7.0</td>\n",
       "      <td>1.0</td>\n",
       "      <td>5.25</td>\n",
       "      <td>Cash</td>\n",
       "      <td>NaN</td>\n",
       "      <td>...</td>\n",
       "      <td>7.0</td>\n",
       "      <td>468715c4e6b0967d57ec45e4ee960045525de2b01a3229...</td>\n",
       "      <td>0.0</td>\n",
       "      <td>0.0</td>\n",
       "      <td>2016-10-23T01:45:00.000</td>\n",
       "      <td>138886b5e124bf5517c9011f4505899ef3d692cd</td>\n",
       "      <td>0.8</td>\n",
       "      <td>240.0</td>\n",
       "      <td>2016-10-23T01:30:00.000</td>\n",
       "      <td>6.25</td>\n",
       "    </tr>\n",
       "    <tr>\n",
       "      <th>1958772</th>\n",
       "      <td>Taxi Affiliation Services</td>\n",
       "      <td>NaN</td>\n",
       "      <td>41.899602</td>\n",
       "      <td>{'type': 'Point', 'coordinates': [-87.63330803...</td>\n",
       "      <td>-87.633308</td>\n",
       "      <td>8.0</td>\n",
       "      <td>1.0</td>\n",
       "      <td>6.75</td>\n",
       "      <td>Cash</td>\n",
       "      <td>NaN</td>\n",
       "      <td>...</td>\n",
       "      <td>8.0</td>\n",
       "      <td>fe3f654450472e6aa241347b9ebb7f78ce4628a0069cfc...</td>\n",
       "      <td>0.0</td>\n",
       "      <td>0.0</td>\n",
       "      <td>2017-04-06T17:45:00.000</td>\n",
       "      <td>14ba302d6ec15f0426b5fc3088251f4647d5fd6f</td>\n",
       "      <td>0.0</td>\n",
       "      <td>480.0</td>\n",
       "      <td>2017-04-06T17:30:00.000</td>\n",
       "      <td>7.75</td>\n",
       "    </tr>\n",
       "    <tr>\n",
       "      <th>1908942</th>\n",
       "      <td>NaN</td>\n",
       "      <td>1.703122e+10</td>\n",
       "      <td>41.921020</td>\n",
       "      <td>{'type': 'Point', 'coordinates': [-87.71035914...</td>\n",
       "      <td>-87.710359</td>\n",
       "      <td>22.0</td>\n",
       "      <td>1.0</td>\n",
       "      <td>13.25</td>\n",
       "      <td>Cash</td>\n",
       "      <td>1.703124e+10</td>\n",
       "      <td>...</td>\n",
       "      <td>24.0</td>\n",
       "      <td>c277cbe417b22e049274ecb4d91bb6612bdb6932c6bcbe...</td>\n",
       "      <td>0.0</td>\n",
       "      <td>0.0</td>\n",
       "      <td>2014-01-25T20:45:00.000</td>\n",
       "      <td>1497a13010bebdb530a03ee82484318ac1b84bb4</td>\n",
       "      <td>5.1</td>\n",
       "      <td>900.0</td>\n",
       "      <td>2014-01-25T20:30:00.000</td>\n",
       "      <td>14.25</td>\n",
       "    </tr>\n",
       "    <tr>\n",
       "      <th>1761408</th>\n",
       "      <td>Choice Taxi Association</td>\n",
       "      <td>1.703132e+10</td>\n",
       "      <td>41.877406</td>\n",
       "      <td>{'type': 'Point', 'coordinates': [-87.62197165...</td>\n",
       "      <td>-87.621972</td>\n",
       "      <td>32.0</td>\n",
       "      <td>0.0</td>\n",
       "      <td>4.85</td>\n",
       "      <td>Credit Card</td>\n",
       "      <td>1.703132e+10</td>\n",
       "      <td>...</td>\n",
       "      <td>32.0</td>\n",
       "      <td>29b6866f97b4ee801bebc5fc21758f7092c13f43884c58...</td>\n",
       "      <td>2.0</td>\n",
       "      <td>0.0</td>\n",
       "      <td>2015-03-05T18:30:00.000</td>\n",
       "      <td>1431a32f22b724f3b4369f0a151970a5f0cf03ab</td>\n",
       "      <td>0.1</td>\n",
       "      <td>240.0</td>\n",
       "      <td>2015-03-05T18:30:00.000</td>\n",
       "      <td>6.85</td>\n",
       "    </tr>\n",
       "  </tbody>\n",
       "</table>\n",
       "<p>10 rows × 23 columns</p>\n",
       "</div>"
      ],
      "text/plain": [
       "                           company  dropoff_census_tract  \\\n",
       "843996   Taxi Affiliation Services          1.703108e+10   \n",
       "879155   Dispatch Taxi Affiliation          1.703184e+10   \n",
       "1239510                        NaN          1.703108e+10   \n",
       "445665                         NaN                   NaN   \n",
       "860605   Taxi Affiliation Services          1.703124e+10   \n",
       "82565    Taxi Affiliation Services          1.703108e+10   \n",
       "1517729                        NaN                   NaN   \n",
       "1958772  Taxi Affiliation Services                   NaN   \n",
       "1908942                        NaN          1.703122e+10   \n",
       "1761408    Choice Taxi Association          1.703132e+10   \n",
       "\n",
       "         dropoff_centroid_latitude  \\\n",
       "843996                   41.905858   \n",
       "879155                   41.898306   \n",
       "1239510                  41.905858   \n",
       "445665                   41.944227   \n",
       "860605                   41.906026   \n",
       "82565                    41.902788   \n",
       "1517729                  41.922686   \n",
       "1958772                  41.899602   \n",
       "1908942                  41.921020   \n",
       "1761408                  41.877406   \n",
       "\n",
       "                                 dropoff_centroid_location  \\\n",
       "843996   {'type': 'Point', 'coordinates': [-87.63086502...   \n",
       "879155   {'type': 'Point', 'coordinates': [-87.65361398...   \n",
       "1239510  {'type': 'Point', 'coordinates': [-87.63086502...   \n",
       "445665   {'type': 'Point', 'coordinates': [-87.65599818...   \n",
       "860605   {'type': 'Point', 'coordinates': [-87.67531162...   \n",
       "82565    {'type': 'Point', 'coordinates': [-87.62614558...   \n",
       "1517729  {'type': 'Point', 'coordinates': [-87.64948872...   \n",
       "1958772  {'type': 'Point', 'coordinates': [-87.63330803...   \n",
       "1908942  {'type': 'Point', 'coordinates': [-87.71035914...   \n",
       "1761408  {'type': 'Point', 'coordinates': [-87.62197165...   \n",
       "\n",
       "         dropoff_centroid_longitude  dropoff_community_area  extras   fare  \\\n",
       "843996                   -87.630865                     8.0     0.0   4.65   \n",
       "879155                   -87.653614                    24.0     1.0   5.25   \n",
       "1239510                  -87.630865                     8.0     2.0   5.65   \n",
       "445665                   -87.655998                     6.0     0.0   4.00   \n",
       "860605                   -87.675312                    24.0     0.0   9.65   \n",
       "82565                    -87.626146                     8.0     2.0  37.65   \n",
       "1517729                  -87.649489                     7.0     1.0   5.25   \n",
       "1958772                  -87.633308                     8.0     1.0   6.75   \n",
       "1908942                  -87.710359                    22.0     1.0  13.25   \n",
       "1761408                  -87.621972                    32.0     0.0   4.85   \n",
       "\n",
       "        payment_type  pickup_census_tract     ...      pickup_community_area  \\\n",
       "843996          Cash         1.703108e+10     ...                        8.0   \n",
       "879155          Cash         1.703183e+10     ...                       28.0   \n",
       "1239510         Cash         1.703108e+10     ...                        8.0   \n",
       "445665          Cash                  NaN     ...                        6.0   \n",
       "860605          Cash         1.703184e+10     ...                       32.0   \n",
       "82565    Credit Card         1.703198e+10     ...                       76.0   \n",
       "1517729         Cash                  NaN     ...                        7.0   \n",
       "1958772         Cash                  NaN     ...                        8.0   \n",
       "1908942         Cash         1.703124e+10     ...                       24.0   \n",
       "1761408  Credit Card         1.703132e+10     ...                       32.0   \n",
       "\n",
       "                                                   taxi_id  tips  tolls  \\\n",
       "843996   51e37146cd6467734e50a00ffe2ebbb77ee35e5f207817...   0.0    0.0   \n",
       "879155   3e0132f8a22b4e9edd4b62bf9708cf185572d2ad6c6266...   0.0    0.0   \n",
       "1239510  9b48ad5744e86450fb4db78e7095a6827bafc43a6a9d9a...   0.0    0.0   \n",
       "445665   78d1ae230754ef2eca7aa3e828789bc4714b8a261a35d5...   0.0    0.0   \n",
       "860605   4c44c95be8b37539aff5ca9e7840cd7951ebf1fa73d62e...   0.0    0.0   \n",
       "82565    2e82e26afb77e809fe4a44b02a152bdc079623600ae1b7...   7.9    0.0   \n",
       "1517729  468715c4e6b0967d57ec45e4ee960045525de2b01a3229...   0.0    0.0   \n",
       "1958772  fe3f654450472e6aa241347b9ebb7f78ce4628a0069cfc...   0.0    0.0   \n",
       "1908942  c277cbe417b22e049274ecb4d91bb6612bdb6932c6bcbe...   0.0    0.0   \n",
       "1761408  29b6866f97b4ee801bebc5fc21758f7092c13f43884c58...   2.0    0.0   \n",
       "\n",
       "              trip_end_timestamp                                   trip_id  \\\n",
       "843996   2015-01-01T03:15:00.000  11b6406723011c97a123ebf415a5ee5b5ae37d17   \n",
       "879155   2015-09-09T23:15:00.000  11cea34462f604cd0c5db1885d5992622263fcd4   \n",
       "1239510  2015-08-20T00:00:00.000  12c892b8a8d35ff50fab54b49a650e5e255f0210   \n",
       "445665   2016-07-30T00:00:00.000  10a1dc56c084992fdf0b4e268461c40f3f98de57   \n",
       "860605   2014-04-22T01:00:00.000  11c1b9dc80de9379f55fc37d3aa6300cdd714dcd   \n",
       "82565    2013-08-22T22:45:00.000  0fa660508ba7c5dfbcffacf5e2000588f9e6b02e   \n",
       "1517729  2016-10-23T01:45:00.000  138886b5e124bf5517c9011f4505899ef3d692cd   \n",
       "1958772  2017-04-06T17:45:00.000  14ba302d6ec15f0426b5fc3088251f4647d5fd6f   \n",
       "1908942  2014-01-25T20:45:00.000  1497a13010bebdb530a03ee82484318ac1b84bb4   \n",
       "1761408  2015-03-05T18:30:00.000  1431a32f22b724f3b4369f0a151970a5f0cf03ab   \n",
       "\n",
       "         trip_miles trip_seconds     trip_start_timestamp  trip_total  \n",
       "843996          0.6        240.0  2015-01-01T03:15:00.000        4.65  \n",
       "879155          0.0        300.0  2015-09-09T23:15:00.000        6.25  \n",
       "1239510         0.6        360.0  2015-08-20T00:00:00.000        7.65  \n",
       "445665          0.2        120.0  2016-07-30T00:00:00.000        4.00  \n",
       "860605          3.3        480.0  2014-04-22T00:45:00.000        9.65  \n",
       "82565           0.0       1920.0  2013-08-22T22:15:00.000       47.55  \n",
       "1517729         0.8        240.0  2016-10-23T01:30:00.000        6.25  \n",
       "1958772         0.0        480.0  2017-04-06T17:30:00.000        7.75  \n",
       "1908942         5.1        900.0  2014-01-25T20:30:00.000       14.25  \n",
       "1761408         0.1        240.0  2015-03-05T18:30:00.000        6.85  \n",
       "\n",
       "[10 rows x 23 columns]"
      ]
     },
     "execution_count": 5,
     "metadata": {},
     "output_type": "execute_result"
    }
   ],
   "source": [
    "yellow_cab.sample(10)"
   ]
  },
  {
   "cell_type": "markdown",
   "metadata": {},
   "source": [
    "##### 3b -  Columns with NaN values\n",
    "\n",
    "Based on several samplings of the data above, the following columns with the True condition have NaN values needing further analysis and possible removal or replacement of these NaN values."
   ]
  },
  {
   "cell_type": "code",
   "execution_count": 6,
   "metadata": {},
   "outputs": [
    {
     "name": "stdout",
     "output_type": "stream",
     "text": [
      "company                        True\n",
      "dropoff_census_tract           True\n",
      "dropoff_centroid_latitude      True\n",
      "dropoff_centroid_location      True\n",
      "dropoff_centroid_longitude     True\n",
      "dropoff_community_area         True\n",
      "extras                         True\n",
      "fare                           True\n",
      "payment_type                  False\n",
      "pickup_census_tract            True\n",
      "pickup_centroid_latitude       True\n",
      "pickup_centroid_location       True\n",
      "pickup_centroid_longitude      True\n",
      "pickup_community_area          True\n",
      "taxi_id                        True\n",
      "tips                           True\n",
      "tolls                          True\n",
      "trip_end_timestamp             True\n",
      "trip_id                       False\n",
      "trip_miles                     True\n",
      "trip_seconds                   True\n",
      "trip_start_timestamp          False\n",
      "trip_total                     True\n",
      "dtype: bool\n"
     ]
    }
   ],
   "source": [
    "Nan = yellow_cab.isnull().any() \n",
    "print(Nan)"
   ]
  },
  {
   "cell_type": "markdown",
   "metadata": {},
   "source": [
    "##### 3c - Columns for Analysis\n",
    "\n",
    "There are several columns that could be used for analysis.  The most obvious columns would be the following:\n",
    "\n",
    "- Company\n",
    "- Extras\n",
    "- Fare\n",
    "- Payment Type\n",
    "- Tips\n",
    "- Tolls\n",
    "- Any location or time based columns\n",
    "\n",
    "It will be interesting to see if different payment types lead to higher revenue or tips.  It will also be helpful to trace the paths of cabs to help drivers understand where the best areas to make the most money are.\n",
    "\n",
    "\n",
    "There appears to be some bad data that will need to be cleaned.  The first step will be to remove any null or NaN values to be sure we are working with rows that have complete data.  Where possible, we can replace these values with 0, but we need to explore the data further to determine if such changes will create problems for us later in our analysis."
   ]
  },
  {
   "cell_type": "markdown",
   "metadata": {},
   "source": [
    "#### 4.1 Eliminate Bad Data"
   ]
  },
  {
   "cell_type": "markdown",
   "metadata": {},
   "source": [
    "##### 4.1a\n",
    "\n",
    "We remove trips from the data that have an NaN value in the trip_miles or trip_seconds column as they represent bad data points rather than actual trips.  We do not want to remove trips with 0 seconds and 0 miles becuase they are likely to be actual trips that were either not long enough to register a distance in miles at the two decimal threshold or were trips that were begun but immediately canceled.  We do not want to elimintate these trips from our dataset."
   ]
  },
  {
   "cell_type": "code",
   "execution_count": 7,
   "metadata": {
    "collapsed": true
   },
   "outputs": [],
   "source": [
    "yellow_cab = yellow_cab.dropna(subset = ['trip_miles', 'trip_seconds', 'trip_total'])"
   ]
  },
  {
   "cell_type": "markdown",
   "metadata": {},
   "source": [
    "##### 4.1b \n",
    "\n",
    "We delete all entries that have no entry or $0 for cost because no money was made on any of those trips and retaining them will cloud our data and analysis by reducing our average values.  A reduction of the average values will cause us to not see the true average to aid in our recommendations, which could ultimately lead to bad or uninformed decisions."
   ]
  },
  {
   "cell_type": "code",
   "execution_count": 8,
   "metadata": {
    "collapsed": true
   },
   "outputs": [],
   "source": [
    "yellow_cab = yellow_cab[yellow_cab.trip_total > 0]"
   ]
  },
  {
   "cell_type": "markdown",
   "metadata": {},
   "source": [
    "#### 4.2 - Make Datetime Objects"
   ]
  },
  {
   "cell_type": "code",
   "execution_count": 9,
   "metadata": {
    "collapsed": true
   },
   "outputs": [],
   "source": [
    "# convert 'trip_start_timestamp' and 'trip_end_timestamp' to datetime object\n",
    "yellow_cab['trip_start_timestamp'] = pd.to_datetime(yellow_cab['trip_start_timestamp'])\n",
    "yellow_cab['trip_end_timestamp'] = pd.to_datetime(yellow_cab['trip_end_timestamp'])"
   ]
  },
  {
   "cell_type": "code",
   "execution_count": 10,
   "metadata": {
    "collapsed": true
   },
   "outputs": [],
   "source": [
    "# create new columns for year, month, day, hour and day of the week\n",
    "yellow_cab['year'] = yellow_cab['trip_start_timestamp'].dt.year\n",
    "yellow_cab['month'] = yellow_cab['trip_start_timestamp'].dt.month\n",
    "yellow_cab['day'] = yellow_cab['trip_start_timestamp'].dt.day\n",
    "yellow_cab['hour'] = yellow_cab['trip_start_timestamp'].dt.hour\n",
    "yellow_cab['dayofweek'] = yellow_cab['trip_start_timestamp'].dt.dayofweek"
   ]
  },
  {
   "cell_type": "code",
   "execution_count": 11,
   "metadata": {},
   "outputs": [
    {
     "data": {
      "text/plain": [
       "(1997211, 28)"
      ]
     },
     "execution_count": 11,
     "metadata": {},
     "output_type": "execute_result"
    }
   ],
   "source": [
    "# list the number of columns and rows\n",
    "yellow_cab.shape"
   ]
  },
  {
   "cell_type": "markdown",
   "metadata": {},
   "source": [
    "#### 4.3 - Get Ride of Outliers"
   ]
  },
  {
   "cell_type": "code",
   "execution_count": 12,
   "metadata": {},
   "outputs": [
    {
     "data": {
      "text/plain": [
       "(1937267, 29)"
      ]
     },
     "execution_count": 12,
     "metadata": {},
     "output_type": "execute_result"
    }
   ],
   "source": [
    "# eliminate outliers\n",
    "yellow_cab['dollar_per_sec'] = np.where(yellow_cab.trip_seconds > 0, yellow_cab.trip_total / yellow_cab.trip_seconds, None)\n",
    "yellow_cab = yellow_cab[yellow_cab['dollar_per_sec'] < 1.5]\n",
    "yellow_cab.shape"
   ]
  },
  {
   "cell_type": "markdown",
   "metadata": {},
   "source": [
    "##### 4.3b\n",
    "\n",
    "The above code removes all trips that cost more than $1.50 per second because it simply does not make sense that a cab ride would cost that much on a per second basis.  Eliminating those gives us more real world data."
   ]
  },
  {
   "cell_type": "code",
   "execution_count": 13,
   "metadata": {
    "collapsed": true
   },
   "outputs": [],
   "source": [
    "yellow_cab.to_csv('Yellow Cab_clean.csv')"
   ]
  },
  {
   "cell_type": "markdown",
   "metadata": {},
   "source": [
    "#### 5 - Descriptive Analytics - Explore the Data"
   ]
  },
  {
   "cell_type": "code",
   "execution_count": 14,
   "metadata": {},
   "outputs": [
    {
     "data": {
      "text/plain": [
       "(477881, 29)"
      ]
     },
     "execution_count": 14,
     "metadata": {},
     "output_type": "execute_result"
    }
   ],
   "source": [
    "yellow_cab_2015 = yellow_cab[yellow_cab['year'] == 2015]\n",
    "yellow_cab_2015.shape"
   ]
  },
  {
   "cell_type": "code",
   "execution_count": 15,
   "metadata": {
    "collapsed": true
   },
   "outputs": [],
   "source": [
    "yellow_cab_2015.to_csv('Yellow Cab_2015.csv')"
   ]
  },
  {
   "cell_type": "markdown",
   "metadata": {},
   "source": [
    "#### 6 - Predictive Analytics - Regression"
   ]
  },
  {
   "cell_type": "code",
   "execution_count": 16,
   "metadata": {
    "collapsed": true
   },
   "outputs": [],
   "source": [
    "yellow_cab['credit'] = np.where(yellow_cab.payment_type ==\"Credit Card\", 1, 0)"
   ]
  },
  {
   "cell_type": "markdown",
   "metadata": {},
   "source": [
    "##### 6.0a - Regression Test 1\n",
    "\n",
    "The first regression analysis will use Trip Total as the dependent variable."
   ]
  },
  {
   "cell_type": "code",
   "execution_count": 17,
   "metadata": {},
   "outputs": [
    {
     "data": {
      "text/html": [
       "<table class=\"simpletable\">\n",
       "<caption>OLS Regression Results</caption>\n",
       "<tr>\n",
       "  <th>Dep. Variable:</th>       <td>trip_total</td>    <th>  R-squared:         </th>  <td>   0.287</td>  \n",
       "</tr>\n",
       "<tr>\n",
       "  <th>Model:</th>                   <td>OLS</td>       <th>  Adj. R-squared:    </th>  <td>   0.287</td>  \n",
       "</tr>\n",
       "<tr>\n",
       "  <th>Method:</th>             <td>Least Squares</td>  <th>  F-statistic:       </th>  <td>1.299e+05</td> \n",
       "</tr>\n",
       "<tr>\n",
       "  <th>Date:</th>             <td>Sun, 05 May 2019</td> <th>  Prob (F-statistic):</th>   <td>  0.00</td>   \n",
       "</tr>\n",
       "<tr>\n",
       "  <th>Time:</th>                 <td>13:41:08</td>     <th>  Log-Likelihood:    </th> <td>-7.8955e+06</td>\n",
       "</tr>\n",
       "<tr>\n",
       "  <th>No. Observations:</th>      <td>1937267</td>     <th>  AIC:               </th>  <td>1.579e+07</td> \n",
       "</tr>\n",
       "<tr>\n",
       "  <th>Df Residuals:</th>          <td>1937260</td>     <th>  BIC:               </th>  <td>1.579e+07</td> \n",
       "</tr>\n",
       "<tr>\n",
       "  <th>Df Model:</th>              <td>     6</td>      <th>                     </th>      <td> </td>     \n",
       "</tr>\n",
       "<tr>\n",
       "  <th>Covariance Type:</th>      <td>nonrobust</td>    <th>                     </th>      <td> </td>     \n",
       "</tr>\n",
       "</table>\n",
       "<table class=\"simpletable\">\n",
       "<tr>\n",
       "         <td></td>           <th>coef</th>     <th>std err</th>      <th>t</th>      <th>P>|t|</th>  <th>[0.025</th>    <th>0.975]</th>  \n",
       "</tr>\n",
       "<tr>\n",
       "  <th>Intercept</th>      <td>    6.2657</td> <td>    0.037</td> <td>  167.154</td> <td> 0.000</td> <td>    6.192</td> <td>    6.339</td>\n",
       "</tr>\n",
       "<tr>\n",
       "  <th>C(credit)[T.1]</th> <td>    6.0304</td> <td>    0.022</td> <td>  280.294</td> <td> 0.000</td> <td>    5.988</td> <td>    6.073</td>\n",
       "</tr>\n",
       "<tr>\n",
       "  <th>trip_seconds</th>   <td>    0.0074</td> <td> 1.04e-05</td> <td>  715.129</td> <td> 0.000</td> <td>    0.007</td> <td>    0.007</td>\n",
       "</tr>\n",
       "<tr>\n",
       "  <th>trip_miles</th>     <td>    0.1840</td> <td>    0.001</td> <td>  237.069</td> <td> 0.000</td> <td>    0.183</td> <td>    0.186</td>\n",
       "</tr>\n",
       "<tr>\n",
       "  <th>hour</th>           <td>   -0.0322</td> <td>    0.002</td> <td>  -20.412</td> <td> 0.000</td> <td>   -0.035</td> <td>   -0.029</td>\n",
       "</tr>\n",
       "<tr>\n",
       "  <th>month</th>          <td>   -0.0021</td> <td>    0.003</td> <td>   -0.692</td> <td> 0.489</td> <td>   -0.008</td> <td>    0.004</td>\n",
       "</tr>\n",
       "<tr>\n",
       "  <th>dayofweek</th>      <td>   -0.0563</td> <td>    0.005</td> <td>  -10.544</td> <td> 0.000</td> <td>   -0.067</td> <td>   -0.046</td>\n",
       "</tr>\n",
       "</table>\n",
       "<table class=\"simpletable\">\n",
       "<tr>\n",
       "  <th>Omnibus:</th>       <td>9753801.534</td> <th>  Durbin-Watson:     </th>       <td>   2.001</td>      \n",
       "</tr>\n",
       "<tr>\n",
       "  <th>Prob(Omnibus):</th>   <td> 0.000</td>    <th>  Jarque-Bera (JB):  </th> <td>1379414959545302.250</td>\n",
       "</tr>\n",
       "<tr>\n",
       "  <th>Skew:</th>            <td>220.210</td>   <th>  Prob(JB):          </th>       <td>    0.00</td>      \n",
       "</tr>\n",
       "<tr>\n",
       "  <th>Kurtosis:</th>      <td>130727.167</td>  <th>  Cond. No.          </th>       <td>4.78e+03</td>      \n",
       "</tr>\n",
       "</table><br/><br/>Warnings:<br/>[1] Standard Errors assume that the covariance matrix of the errors is correctly specified.<br/>[2] The condition number is large, 4.78e+03. This might indicate that there are<br/>strong multicollinearity or other numerical problems."
      ],
      "text/plain": [
       "<class 'statsmodels.iolib.summary.Summary'>\n",
       "\"\"\"\n",
       "                            OLS Regression Results                            \n",
       "==============================================================================\n",
       "Dep. Variable:             trip_total   R-squared:                       0.287\n",
       "Model:                            OLS   Adj. R-squared:                  0.287\n",
       "Method:                 Least Squares   F-statistic:                 1.299e+05\n",
       "Date:                Sun, 05 May 2019   Prob (F-statistic):               0.00\n",
       "Time:                        13:41:08   Log-Likelihood:            -7.8955e+06\n",
       "No. Observations:             1937267   AIC:                         1.579e+07\n",
       "Df Residuals:                 1937260   BIC:                         1.579e+07\n",
       "Df Model:                           6                                         \n",
       "Covariance Type:            nonrobust                                         \n",
       "==================================================================================\n",
       "                     coef    std err          t      P>|t|      [0.025      0.975]\n",
       "----------------------------------------------------------------------------------\n",
       "Intercept          6.2657      0.037    167.154      0.000       6.192       6.339\n",
       "C(credit)[T.1]     6.0304      0.022    280.294      0.000       5.988       6.073\n",
       "trip_seconds       0.0074   1.04e-05    715.129      0.000       0.007       0.007\n",
       "trip_miles         0.1840      0.001    237.069      0.000       0.183       0.186\n",
       "hour              -0.0322      0.002    -20.412      0.000      -0.035      -0.029\n",
       "month             -0.0021      0.003     -0.692      0.489      -0.008       0.004\n",
       "dayofweek         -0.0563      0.005    -10.544      0.000      -0.067      -0.046\n",
       "================================================================================\n",
       "Omnibus:                  9753801.534   Durbin-Watson:                     2.001\n",
       "Prob(Omnibus):                  0.000   Jarque-Bera (JB):   1379414959545302.250\n",
       "Skew:                         220.210   Prob(JB):                           0.00\n",
       "Kurtosis:                  130727.167   Cond. No.                       4.78e+03\n",
       "================================================================================\n",
       "\n",
       "Warnings:\n",
       "[1] Standard Errors assume that the covariance matrix of the errors is correctly specified.\n",
       "[2] The condition number is large, 4.78e+03. This might indicate that there are\n",
       "strong multicollinearity or other numerical problems.\n",
       "\"\"\""
      ]
     },
     "execution_count": 17,
     "metadata": {},
     "output_type": "execute_result"
    }
   ],
   "source": [
    "# Regression test 1\n",
    "results1 = smf.ols('trip_total ~ trip_seconds + trip_miles + C(credit) + hour + month + dayofweek', data=yellow_cab).fit()\n",
    "results1.summary()"
   ]
  },
  {
   "cell_type": "markdown",
   "metadata": {},
   "source": [
    "##### Regression 1 Results\n",
    "\n",
    "The payment type a rider uses seems to have a significant impact on the trip total.  Trip miles and seconds play a smaller role, but we expect the cab fare is charged by distance and time so this result also makes sense.  The hour, month, and day of the week do not have a positive correlation to trip total, which suggests that trip totals decrease later in the day, week, and year.  These changes are not large, but with the exception of Month, they are all statistically significant."
   ]
  },
  {
   "cell_type": "markdown",
   "metadata": {},
   "source": [
    "##### 6.0b - Regression Test 2\n",
    "\n",
    "The second regression analysis will use Tips as the dependent variable."
   ]
  },
  {
   "cell_type": "code",
   "execution_count": 18,
   "metadata": {},
   "outputs": [
    {
     "data": {
      "text/html": [
       "<table class=\"simpletable\">\n",
       "<caption>OLS Regression Results</caption>\n",
       "<tr>\n",
       "  <th>Dep. Variable:</th>          <td>tips</td>       <th>  R-squared:         </th>  <td>   0.517</td>  \n",
       "</tr>\n",
       "<tr>\n",
       "  <th>Model:</th>                   <td>OLS</td>       <th>  Adj. R-squared:    </th>  <td>   0.517</td>  \n",
       "</tr>\n",
       "<tr>\n",
       "  <th>Method:</th>             <td>Least Squares</td>  <th>  F-statistic:       </th>  <td>3.456e+05</td> \n",
       "</tr>\n",
       "<tr>\n",
       "  <th>Date:</th>             <td>Sun, 05 May 2019</td> <th>  Prob (F-statistic):</th>   <td>  0.00</td>   \n",
       "</tr>\n",
       "<tr>\n",
       "  <th>Time:</th>                 <td>13:41:16</td>     <th>  Log-Likelihood:    </th> <td>-3.6975e+06</td>\n",
       "</tr>\n",
       "<tr>\n",
       "  <th>No. Observations:</th>      <td>1937267</td>     <th>  AIC:               </th>  <td>7.395e+06</td> \n",
       "</tr>\n",
       "<tr>\n",
       "  <th>Df Residuals:</th>          <td>1937260</td>     <th>  BIC:               </th>  <td>7.395e+06</td> \n",
       "</tr>\n",
       "<tr>\n",
       "  <th>Df Model:</th>              <td>     6</td>      <th>                     </th>      <td> </td>     \n",
       "</tr>\n",
       "<tr>\n",
       "  <th>Covariance Type:</th>      <td>nonrobust</td>    <th>                     </th>      <td> </td>     \n",
       "</tr>\n",
       "</table>\n",
       "<table class=\"simpletable\">\n",
       "<tr>\n",
       "         <td></td>           <th>coef</th>     <th>std err</th>      <th>t</th>      <th>P>|t|</th>  <th>[0.025</th>    <th>0.975]</th>  \n",
       "</tr>\n",
       "<tr>\n",
       "  <th>Intercept</th>      <td>   -0.3250</td> <td>    0.004</td> <td>  -75.718</td> <td> 0.000</td> <td>   -0.333</td> <td>   -0.317</td>\n",
       "</tr>\n",
       "<tr>\n",
       "  <th>C(credit)[T.1]</th> <td>    3.1791</td> <td>    0.002</td> <td> 1290.249</td> <td> 0.000</td> <td>    3.174</td> <td>    3.184</td>\n",
       "</tr>\n",
       "<tr>\n",
       "  <th>trip_seconds</th>   <td>    0.0005</td> <td> 1.19e-06</td> <td>  423.827</td> <td> 0.000</td> <td>    0.001</td> <td>    0.001</td>\n",
       "</tr>\n",
       "<tr>\n",
       "  <th>trip_miles</th>     <td>    0.0148</td> <td> 8.89e-05</td> <td>  166.850</td> <td> 0.000</td> <td>    0.015</td> <td>    0.015</td>\n",
       "</tr>\n",
       "<tr>\n",
       "  <th>hour</th>           <td>    0.0002</td> <td>    0.000</td> <td>    1.282</td> <td> 0.200</td> <td>   -0.000</td> <td>    0.001</td>\n",
       "</tr>\n",
       "<tr>\n",
       "  <th>month</th>          <td>    0.0001</td> <td>    0.000</td> <td>    0.300</td> <td> 0.764</td> <td>   -0.001</td> <td>    0.001</td>\n",
       "</tr>\n",
       "<tr>\n",
       "  <th>dayofweek</th>      <td>   -0.0239</td> <td>    0.001</td> <td>  -39.169</td> <td> 0.000</td> <td>   -0.025</td> <td>   -0.023</td>\n",
       "</tr>\n",
       "</table>\n",
       "<table class=\"simpletable\">\n",
       "<tr>\n",
       "  <th>Omnibus:</th>       <td>3415401.988</td> <th>  Durbin-Watson:     </th>     <td>   1.999</td>    \n",
       "</tr>\n",
       "<tr>\n",
       "  <th>Prob(Omnibus):</th>   <td> 0.000</td>    <th>  Jarque-Bera (JB):  </th> <td>122761066231.749</td>\n",
       "</tr>\n",
       "<tr>\n",
       "  <th>Skew:</th>            <td>11.299</td>    <th>  Prob(JB):          </th>     <td>    0.00</td>    \n",
       "</tr>\n",
       "<tr>\n",
       "  <th>Kurtosis:</th>       <td>1236.015</td>   <th>  Cond. No.          </th>     <td>4.78e+03</td>    \n",
       "</tr>\n",
       "</table><br/><br/>Warnings:<br/>[1] Standard Errors assume that the covariance matrix of the errors is correctly specified.<br/>[2] The condition number is large, 4.78e+03. This might indicate that there are<br/>strong multicollinearity or other numerical problems."
      ],
      "text/plain": [
       "<class 'statsmodels.iolib.summary.Summary'>\n",
       "\"\"\"\n",
       "                            OLS Regression Results                            \n",
       "==============================================================================\n",
       "Dep. Variable:                   tips   R-squared:                       0.517\n",
       "Model:                            OLS   Adj. R-squared:                  0.517\n",
       "Method:                 Least Squares   F-statistic:                 3.456e+05\n",
       "Date:                Sun, 05 May 2019   Prob (F-statistic):               0.00\n",
       "Time:                        13:41:16   Log-Likelihood:            -3.6975e+06\n",
       "No. Observations:             1937267   AIC:                         7.395e+06\n",
       "Df Residuals:                 1937260   BIC:                         7.395e+06\n",
       "Df Model:                           6                                         \n",
       "Covariance Type:            nonrobust                                         \n",
       "==================================================================================\n",
       "                     coef    std err          t      P>|t|      [0.025      0.975]\n",
       "----------------------------------------------------------------------------------\n",
       "Intercept         -0.3250      0.004    -75.718      0.000      -0.333      -0.317\n",
       "C(credit)[T.1]     3.1791      0.002   1290.249      0.000       3.174       3.184\n",
       "trip_seconds       0.0005   1.19e-06    423.827      0.000       0.001       0.001\n",
       "trip_miles         0.0148   8.89e-05    166.850      0.000       0.015       0.015\n",
       "hour               0.0002      0.000      1.282      0.200      -0.000       0.001\n",
       "month              0.0001      0.000      0.300      0.764      -0.001       0.001\n",
       "dayofweek         -0.0239      0.001    -39.169      0.000      -0.025      -0.023\n",
       "==============================================================================\n",
       "Omnibus:                  3415401.988   Durbin-Watson:                   1.999\n",
       "Prob(Omnibus):                  0.000   Jarque-Bera (JB):     122761066231.749\n",
       "Skew:                          11.299   Prob(JB):                         0.00\n",
       "Kurtosis:                    1236.015   Cond. No.                     4.78e+03\n",
       "==============================================================================\n",
       "\n",
       "Warnings:\n",
       "[1] Standard Errors assume that the covariance matrix of the errors is correctly specified.\n",
       "[2] The condition number is large, 4.78e+03. This might indicate that there are\n",
       "strong multicollinearity or other numerical problems.\n",
       "\"\"\""
      ]
     },
     "execution_count": 18,
     "metadata": {},
     "output_type": "execute_result"
    }
   ],
   "source": [
    "# Regression test 2\n",
    "results2 = smf.ols('tips ~ trip_seconds + trip_miles + C(credit) + hour + month + dayofweek', data=yellow_cab).fit()\n",
    "results2.summary()"
   ]
  },
  {
   "cell_type": "markdown",
   "metadata": {},
   "source": [
    "##### Regression 2 Results\n",
    "\n",
    "These results show that the tip amount a rider leaves a cab driver is heavily dependent on the payment type.  Distance of a trip also appears to have an impact on tips, albeit still a small one when compared to payment type."
   ]
  },
  {
   "cell_type": "markdown",
   "metadata": {},
   "source": [
    "#### Additional Anaylsis"
   ]
  },
  {
   "cell_type": "code",
   "execution_count": 19,
   "metadata": {},
   "outputs": [],
   "source": [
    "ycs = yellow_cab_2015.sample(2000)\n",
    "\n",
    "yc15cash = ycs[ycs.payment_type == 'Cash']\n",
    "yc15credit = ycs[ycs.payment_type == 'Credit Card']"
   ]
  },
  {
   "cell_type": "code",
   "execution_count": 20,
   "metadata": {},
   "outputs": [
    {
     "name": "stderr",
     "output_type": "stream",
     "text": [
      "C:\\Users\\thomas.coats\\AppData\\Local\\Continuum\\anaconda3\\lib\\site-packages\\scipy\\stats\\stats.py:1713: FutureWarning: Using a non-tuple sequence for multidimensional indexing is deprecated; use `arr[tuple(seq)]` instead of `arr[seq]`. In the future this will be interpreted as an array index, `arr[np.array(seq)]`, which will result either in an error or a different result.\n",
      "  return np.add.reduce(sorted[indexer] * weights, axis=axis) / sumval\n"
     ]
    },
    {
     "data": {
      "image/png": "[encoded data removed]",
      "text/plain": [
       "<Figure size 432x288 with 1 Axes>"
      ]
     },
     "metadata": {
      "needs_background": "light"
     },
     "output_type": "display_data"
    }
   ],
   "source": [
    "sns.kdeplot(ycs['trip_total'],shade=True, color='g')\n",
    "plt.title('Distribution of Trip Total for All Transactions')\n",
    "plt.show()"
   ]
  },
  {
   "cell_type": "code",
   "execution_count": 21,
   "metadata": {},
   "outputs": [
    {
     "name": "stderr",
     "output_type": "stream",
     "text": [
      "C:\\Users\\thomas.coats\\AppData\\Local\\Continuum\\anaconda3\\lib\\site-packages\\scipy\\stats\\stats.py:1713: FutureWarning: Using a non-tuple sequence for multidimensional indexing is deprecated; use `arr[tuple(seq)]` instead of `arr[seq]`. In the future this will be interpreted as an array index, `arr[np.array(seq)]`, which will result either in an error or a different result.\n",
      "  return np.add.reduce(sorted[indexer] * weights, axis=axis) / sumval\n"
     ]
    },
    {
     "data": {
      "image/png": "[encoded data removed]",
      "text/plain": [
       "<Figure size 432x288 with 1 Axes>"
      ]
     },
     "metadata": {
      "needs_background": "light"
     },
     "output_type": "display_data"
    }
   ],
   "source": [
    "p1=sns.kdeplot(yc15cash['trip_total'], label = 'Cash', shade=True, color=\"r\")\n",
    "p1=sns.kdeplot(yc15credit['trip_total'], label = 'Credit Card', shade=True, color=\"b\")\n",
    "plt.title('Distribution of Trip Total by Transaction Type')\n",
    "plt.show()"
   ]
  },
  {
   "cell_type": "markdown",
   "metadata": {},
   "source": [
    "The distributions above show that trips paid with credit cards tend to have a higher trip total.  This result is also what we saw in our Regression analysis with Tips as the dependent variable.  We can conclude that customers will give larger tips to drivers when they pay with a credit card rather than with cash."
   ]
  }
 ],
 "metadata": {
  "kernelspec": {
   "display_name": "Python 3",
   "language": "python",
   "name": "python3"
  },
  "language_info": {
   "codemirror_mode": {
    "name": "ipython",
    "version": 3
   },
   "file_extension": ".py",
   "mimetype": "text/x-python",
   "name": "python",
   "nbconvert_exporter": "python",
   "pygments_lexer": "ipython3",
   "version": "3.7.0"
  }
 },
 "nbformat": 4,
 "nbformat_minor": 2
}
